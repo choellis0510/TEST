{
 "cells": [
  {
   "cell_type": "code",
   "execution_count": 3,
   "metadata": {},
   "outputs": [],
   "source": [
    "import pandas as pd\n",
    "import numpy as np\n",
    "import matplotlib\n",
    "import matplotlib.pyplot as plt\n",
    "import seaborn as sns\n",
    "import statsmodels.api as sm \n",
    "import scipy.stats\n",
    "import pylab as py \n",
    "%matplotlib inline"
   ]
  },
  {
   "cell_type": "markdown",
   "metadata": {},
   "source": [
    "# Downloading and Cleaning the Data"
   ]
  },
  {
   "cell_type": "code",
   "execution_count": 4,
   "metadata": {},
   "outputs": [
    {
     "data": {
      "text/html": [
       "<div>\n",
       "<style scoped>\n",
       "    .dataframe tbody tr th:only-of-type {\n",
       "        vertical-align: middle;\n",
       "    }\n",
       "\n",
       "    .dataframe tbody tr th {\n",
       "        vertical-align: top;\n",
       "    }\n",
       "\n",
       "    .dataframe thead th {\n",
       "        text-align: right;\n",
       "    }\n",
       "</style>\n",
       "<table border=\"1\" class=\"dataframe\">\n",
       "  <thead>\n",
       "    <tr style=\"text-align: right;\">\n",
       "      <th></th>\n",
       "      <th>City</th>\n",
       "      <th>State</th>\n",
       "      <th>2019</th>\n",
       "      <th>2020</th>\n",
       "      <th>YoY Raw Growth Volume</th>\n",
       "      <th>YoY % Change</th>\n",
       "    </tr>\n",
       "  </thead>\n",
       "  <tbody>\n",
       "    <tr>\n",
       "      <th>1</th>\n",
       "      <td>Shaver Lake</td>\n",
       "      <td>California</td>\n",
       "      <td>564</td>\n",
       "      <td>1000.0</td>\n",
       "      <td>436.0</td>\n",
       "      <td>0.773050</td>\n",
       "    </tr>\n",
       "    <tr>\n",
       "      <th>2</th>\n",
       "      <td>Holly Ridge</td>\n",
       "      <td>North Carolina</td>\n",
       "      <td>521</td>\n",
       "      <td>1003.0</td>\n",
       "      <td>482.0</td>\n",
       "      <td>0.925144</td>\n",
       "    </tr>\n",
       "    <tr>\n",
       "      <th>3</th>\n",
       "      <td>Pasadena</td>\n",
       "      <td>California</td>\n",
       "      <td>1292</td>\n",
       "      <td>1003.0</td>\n",
       "      <td>-289.0</td>\n",
       "      <td>-0.223684</td>\n",
       "    </tr>\n",
       "    <tr>\n",
       "      <th>4</th>\n",
       "      <td>Fairbanks</td>\n",
       "      <td>Alaska</td>\n",
       "      <td>1014</td>\n",
       "      <td>1010.0</td>\n",
       "      <td>-4.0</td>\n",
       "      <td>-0.003945</td>\n",
       "    </tr>\n",
       "    <tr>\n",
       "      <th>5</th>\n",
       "      <td>Grand Rapids</td>\n",
       "      <td>Michigan</td>\n",
       "      <td>1269</td>\n",
       "      <td>1011.0</td>\n",
       "      <td>-258.0</td>\n",
       "      <td>-0.203310</td>\n",
       "    </tr>\n",
       "  </tbody>\n",
       "</table>\n",
       "</div>"
      ],
      "text/plain": [
       "           City           State  2019    2020  YoY Raw Growth Volume  \\\n",
       "1   Shaver Lake      California   564  1000.0                  436.0   \n",
       "2   Holly Ridge  North Carolina   521  1003.0                  482.0   \n",
       "3      Pasadena      California  1292  1003.0                 -289.0   \n",
       "4     Fairbanks          Alaska  1014  1010.0                   -4.0   \n",
       "5  Grand Rapids        Michigan  1269  1011.0                 -258.0   \n",
       "\n",
       "   YoY % Change  \n",
       "1      0.773050  \n",
       "2      0.925144  \n",
       "3     -0.223684  \n",
       "4     -0.003945  \n",
       "5     -0.203310  "
      ]
     },
     "execution_count": 4,
     "metadata": {},
     "output_type": "execute_result"
    }
   ],
   "source": [
    "YoY = pd.read_csv(\"YoY_AirDNA.csv\") # Dataset made public by AirDNA\n",
    "\n",
    "YoY = YoY.reset_index().iloc[1:len(YoY)].rename(columns={\n",
    "    \"Top Cities by 2020 Reservations (YoY Comparison )\":\"City\", \n",
    "    \"Unnamed: 1\":\"State\", \n",
    "    \"Unnamed: 2\":\"2019\", \n",
    "    \"Unnamed: 3\":\"2020\", \n",
    "    \"Unnamed: 5\":\"YoY % Change\"}).drop([\"index\", \"Unnamed: 4\"], axis=1)\n",
    "\n",
    "YoY[\"YoY % Change\"] = YoY[\"YoY % Change\"].astype(float)\n",
    "\n",
    "YoY = YoY.dropna() # Clean out NaN values (1 row)\n",
    "\n",
    "YoY[\"YoY Raw Growth Volume\"] = YoY[\"2020\"] - YoY[\"2019\"]\n",
    "YoY = YoY[[\"City\", \"State\", \"2019\", \"2020\", \"YoY Raw Growth Volume\", \"YoY % Change\"]]\n",
    "\n",
    "YoY.head()"
   ]
  },
  {
   "cell_type": "code",
   "execution_count": null,
   "metadata": {},
   "outputs": [],
   "source": []
  }
 ],
 "metadata": {
  "kernelspec": {
   "display_name": "Python 3",
   "language": "python",
   "name": "python3"
  },
  "language_info": {
   "codemirror_mode": {
    "name": "ipython",
    "version": 3
   },
   "file_extension": ".py",
   "mimetype": "text/x-python",
   "name": "python",
   "nbconvert_exporter": "python",
   "pygments_lexer": "ipython3",
   "version": "3.6.9"
  }
 },
 "nbformat": 4,
 "nbformat_minor": 4
}
