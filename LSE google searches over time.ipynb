{
 "cells": [
  {
   "cell_type": "code",
   "execution_count": 1,
   "metadata": {},
   "outputs": [],
   "source": [
    "import numpy as np\n",
    "import math\n",
    "from datascience import *\n",
    "\n",
    "%matplotlib inline\n",
    "import matplotlib.pyplot as plots\n",
    "plots.style.use('fivethirtyeight')"
   ]
  },
  {
   "cell_type": "code",
   "execution_count": 5,
   "metadata": {},
   "outputs": [
    {
     "data": {
      "text/html": [
       "<table border=\"1\" class=\"dataframe\">\n",
       "    <thead>\n",
       "        <tr>\n",
       "            <th>year</th> <th>searches</th>\n",
       "        </tr>\n",
       "    </thead>\n",
       "    <tbody>\n",
       "        <tr>\n",
       "            <td>1,999</td> <td>795.2   </td>\n",
       "        </tr>\n",
       "        <tr>\n",
       "            <td>2,000</td> <td>9238.2  </td>\n",
       "        </tr>\n",
       "        <tr>\n",
       "            <td>2,001</td> <td>27474.6 </td>\n",
       "        </tr>\n",
       "        <tr>\n",
       "            <td>2,002</td> <td>41041.6 </td>\n",
       "        </tr>\n",
       "        <tr>\n",
       "            <td>2,003</td> <td>61308   </td>\n",
       "        </tr>\n",
       "        <tr>\n",
       "            <td>2,004</td> <td>86142.7 </td>\n",
       "        </tr>\n",
       "        <tr>\n",
       "            <td>2,005</td> <td>141044  </td>\n",
       "        </tr>\n",
       "        <tr>\n",
       "            <td>2,006</td> <td>230935  </td>\n",
       "        </tr>\n",
       "        <tr>\n",
       "            <td>2,007</td> <td>372014  </td>\n",
       "        </tr>\n",
       "        <tr>\n",
       "            <td>2,008</td> <td>584473  </td>\n",
       "        </tr>\n",
       "    </tbody>\n",
       "</table>\n",
       "<p>... (4 rows omitted)</p>"
      ],
      "text/plain": [
       "year  | searches\n",
       "1,999 | 795.2\n",
       "2,000 | 9238.2\n",
       "2,001 | 27474.6\n",
       "2,002 | 41041.6\n",
       "2,003 | 61308\n",
       "2,004 | 86142.7\n",
       "2,005 | 141044\n",
       "2,006 | 230935\n",
       "2,007 | 372014\n",
       "2,008 | 584473\n",
       "... (4 rows omitted)"
      ]
     },
     "execution_count": 5,
     "metadata": {},
     "output_type": "execute_result"
    }
   ],
   "source": [
    "google_table=Table().with_columns(\"year\", make_array(1999,\n",
    "2000,\n",
    "2001,\n",
    "2002,\n",
    "2003,\n",
    "2004,\n",
    "2005,\n",
    "2006,\n",
    "2007,\n",
    "2008,\n",
    "2009,\n",
    "2010,\n",
    "2011,\n",
    "2012),\n",
    "                                \"searches\", make_array(795.2,\n",
    "9238.2,\n",
    "27474.6,\n",
    "41041.6,\n",
    "61308,\n",
    "86142.7,\n",
    "141043.7,\n",
    "230934.6,\n",
    "372013.5,\n",
    "584473,\n",
    "792054.4,\n",
    "998369.9,\n",
    "1109486.6,\n",
    "1216373.5))\n",
    "\n",
    "google_table"
   ]
  },
  {
   "cell_type": "code",
   "execution_count": 7,
   "metadata": {},
   "outputs": [
    {
     "data": {
      "image/png": "[encoded data removed]",
      "text/plain": [
       "<Figure size 360x360 with 1 Axes>"
      ]
     },
     "metadata": {},
     "output_type": "display_data"
    }
   ],
   "source": [
    "google_table.scatter(0)"
   ]
  },
  {
   "cell_type": "code",
   "execution_count": 8,
   "metadata": {},
   "outputs": [],
   "source": [
    "def standard_units(array):\n",
    "    mean=np.mean(array)\n",
    "    sd=np.std(array)\n",
    "    su_array=make_array()\n",
    "    for i in array:\n",
    "        su=(i-mean)/sd\n",
    "        su_array=np.append(su_array, su)\n",
    "    return su_array"
   ]
  },
  {
   "cell_type": "code",
   "execution_count": 9,
   "metadata": {},
   "outputs": [],
   "source": [
    "years=make_array(1999,\n",
    "2000,\n",
    "2001,\n",
    "2002,\n",
    "2003,\n",
    "2004,\n",
    "2005,\n",
    "2006,\n",
    "2007,\n",
    "2008,\n",
    "2009,\n",
    "2010,\n",
    "2011,\n",
    "2012)"
   ]
  },
  {
   "cell_type": "code",
   "execution_count": 10,
   "metadata": {},
   "outputs": [],
   "source": [
    "searches=make_array(795.2,\n",
    "9238.2,\n",
    "27474.6,\n",
    "41041.6,\n",
    "61308,\n",
    "86142.7,\n",
    "141043.7,\n",
    "230934.6,\n",
    "372013.5,\n",
    "584473,\n",
    "792054.4,\n",
    "998369.9,\n",
    "1109486.6,\n",
    "1216373.5)"
   ]
  },
  {
   "cell_type": "code",
   "execution_count": 15,
   "metadata": {},
   "outputs": [
    {
     "data": {
      "text/plain": [
       "0.933844341929157"
      ]
     },
     "execution_count": 15,
     "metadata": {},
     "output_type": "execute_result"
    }
   ],
   "source": [
    "r=np.mean(standard_units(years)*standard_units(searches))\n",
    "r"
   ]
  },
  {
   "cell_type": "code",
   "execution_count": 17,
   "metadata": {},
   "outputs": [
    {
     "data": {
      "text/plain": [
       "99920.27670329672"
      ]
     },
     "execution_count": 17,
     "metadata": {},
     "output_type": "execute_result"
    }
   ],
   "source": [
    "slope=r*(np.std(searches)/np.std(years))\n",
    "slope"
   ]
  },
  {
   "cell_type": "code",
   "execution_count": 19,
   "metadata": {},
   "outputs": [
    {
     "data": {
      "text/plain": [
       "-199985061.39274728"
      ]
     },
     "execution_count": 19,
     "metadata": {},
     "output_type": "execute_result"
    }
   ],
   "source": [
    "intercept=np.mean(searches)-(slope*np.mean(years))\n",
    "intercept"
   ]
  },
  {
   "cell_type": "code",
   "execution_count": 23,
   "metadata": {},
   "outputs": [
    {
     "data": {
      "text/html": [
       "<table border=\"1\" class=\"dataframe\">\n",
       "    <thead>\n",
       "        <tr>\n",
       "            <th>year</th> <th>searches</th> <th>predicted searches</th>\n",
       "        </tr>\n",
       "    </thead>\n",
       "    <tbody>\n",
       "        <tr>\n",
       "            <td>1,999</td> <td>795.2   </td> <td>-1.20528e+08      </td>\n",
       "        </tr>\n",
       "        <tr>\n",
       "            <td>2,000</td> <td>9238.2  </td> <td>7.23098e+08       </td>\n",
       "        </tr>\n",
       "        <tr>\n",
       "            <td>2,001</td> <td>27474.6 </td> <td>2.54528e+09       </td>\n",
       "        </tr>\n",
       "        <tr>\n",
       "            <td>2,002</td> <td>41041.6 </td> <td>3.9009e+09        </td>\n",
       "        </tr>\n",
       "        <tr>\n",
       "            <td>2,003</td> <td>61308   </td> <td>5.92593e+09       </td>\n",
       "        </tr>\n",
       "        <tr>\n",
       "            <td>2,004</td> <td>86142.7 </td> <td>8.40742e+09       </td>\n",
       "        </tr>\n",
       "        <tr>\n",
       "            <td>2,005</td> <td>141044  </td> <td>1.38931e+10       </td>\n",
       "        </tr>\n",
       "        <tr>\n",
       "            <td>2,006</td> <td>230935  </td> <td>2.28751e+10       </td>\n",
       "        </tr>\n",
       "        <tr>\n",
       "            <td>2,007</td> <td>372014  </td> <td>3.69717e+10       </td>\n",
       "        </tr>\n",
       "        <tr>\n",
       "            <td>2,008</td> <td>584473  </td> <td>5.82007e+10       </td>\n",
       "        </tr>\n",
       "    </tbody>\n",
       "</table>\n",
       "<p>... (4 rows omitted)</p>"
      ],
      "text/plain": [
       "year  | searches | predicted searches\n",
       "1,999 | 795.2    | -1.20528e+08\n",
       "2,000 | 9238.2   | 7.23098e+08\n",
       "2,001 | 27474.6  | 2.54528e+09\n",
       "2,002 | 41041.6  | 3.9009e+09\n",
       "2,003 | 61308    | 5.92593e+09\n",
       "2,004 | 86142.7  | 8.40742e+09\n",
       "2,005 | 141044   | 1.38931e+10\n",
       "2,006 | 230935   | 2.28751e+10\n",
       "2,007 | 372014   | 3.69717e+10\n",
       "2,008 | 584473   | 5.82007e+10\n",
       "... (4 rows omitted)"
      ]
     },
     "execution_count": 23,
     "metadata": {},
     "output_type": "execute_result"
    }
   ],
   "source": [
    "google_table.with_column(\"predicted searches\", ((searches*slope)+intercept))"
   ]
  },
  {
   "cell_type": "code",
   "execution_count": 25,
   "metadata": {},
   "outputs": [
    {
     "data": {
      "text/plain": [
       "431326.1797994606"
      ]
     },
     "execution_count": 25,
     "metadata": {},
     "output_type": "execute_result"
    }
   ],
   "source": [
    "np.std(searches)"
   ]
  },
  {
   "cell_type": "code",
   "execution_count": null,
   "metadata": {},
   "outputs": [],
   "source": []
  }
 ],
 "metadata": {
  "kernelspec": {
   "display_name": "Python 3",
   "language": "python",
   "name": "python3"
  },
  "language_info": {
   "codemirror_mode": {
    "name": "ipython",
    "version": 3
   },
   "file_extension": ".py",
   "mimetype": "text/x-python",
   "name": "python",
   "nbconvert_exporter": "python",
   "pygments_lexer": "ipython3",
   "version": "3.6.9"
  }
 },
 "nbformat": 4,
 "nbformat_minor": 2
}
